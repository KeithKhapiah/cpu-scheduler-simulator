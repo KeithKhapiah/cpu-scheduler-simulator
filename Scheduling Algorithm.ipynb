{
 "cells": [
  {
   "cell_type": "code",
   "execution_count": 1,
   "id": "be1f9ee9-9dac-4801-9907-2d2d013f4f87",
   "metadata": {},
   "outputs": [],
   "source": [
    "import matplotlib.pyplot as plt\n",
    "\n",
    "# Input module for process details\n",
    "def get_process_input():\n",
    "    num_processes = int(input(\"Enter the number of processes: \"))\n",
    "    processes = []\n",
    "    \n",
    "    for i in range(num_processes):\n",
    "        pid = input(f\"Enter PID for process {i+1}: \")\n",
    "        arrival = int(input(f\"Enter arrival time for process {pid}: \"))\n",
    "        burst = int(input(f\"Enter burst time for process {pid}: \"))\n",
    "        \n",
    "        # For Priority Scheduling, ask for the priority value\n",
    "        priority = int(input(f\"Enter priority for process {pid} (lower number means higher priority): \"))\n",
    "        \n",
    "        processes.append({'PID': pid, 'arrival': arrival, 'burst': burst, 'priority': priority})\n",
    "        \n",
    "    return processes\n"
   ]
  },
  {
   "cell_type": "code",
   "execution_count": 2,
   "id": "85ef0dca-e7e6-4f4a-aae1-eb027ebd4053",
   "metadata": {},
   "outputs": [],
   "source": [
    "# FCFS Scheduling Algorithm\n",
    "def fcfs(processes):\n",
    "    processes.sort(key=lambda x: x['arrival'])\n",
    "    time = 0\n",
    "    gantt = []\n",
    "    stats = []\n",
    "\n",
    "    for p in processes:\n",
    "        start = max(time, p['arrival'])\n",
    "        end = start + p['burst']\n",
    "        waiting = start - p['arrival']\n",
    "        tat = end - p['arrival']\n",
    "        gantt.append((p['PID'], start, end))\n",
    "        stats.append({'PID': p['PID'], 'Waiting': waiting, 'Turnaround': tat})\n",
    "        time = end\n",
    "\n",
    "    return gantt, stats"
   ]
  },
  {
   "cell_type": "code",
   "execution_count": 3,
   "id": "12d9fab0-cb27-40ab-9367-7a4d406fcbbd",
   "metadata": {},
   "outputs": [],
   "source": [
    "# SJF Scheduling Algorithm\n",
    "def sjf(processes):\n",
    "    ready = []\n",
    "    time = 0\n",
    "    gantt = []\n",
    "    stats = []\n",
    "    processes.sort(key=lambda x: x['arrival'])\n",
    "    i = 0\n",
    "\n",
    "    while i < len(processes) or ready:\n",
    "        while i < len(processes) and processes[i]['arrival'] <= time:\n",
    "            ready.append(processes[i])\n",
    "            i += 1\n",
    "\n",
    "        if ready:\n",
    "            ready.sort(key=lambda x: x['burst'])\n",
    "            p = ready.pop(0)\n",
    "            start = time\n",
    "            end = start + p['burst']\n",
    "            waiting = start - p['arrival']\n",
    "            tat = end - p['arrival']\n",
    "            gantt.append((p['PID'], start, end))\n",
    "            stats.append({'PID': p['PID'], 'Waiting': waiting, 'Turnaround': tat})\n",
    "            time = end\n",
    "        else:\n",
    "            time = processes[i]['arrival']\n",
    "\n",
    "    return gantt, stats\n"
   ]
  },
  {
   "cell_type": "code",
   "execution_count": 4,
   "id": "b26e9a71-e9a5-45f9-a330-568f4ce961c0",
   "metadata": {},
   "outputs": [],
   "source": [
    "def round_robin(processes, quantum):\n",
    "    queue = []\n",
    "    time = 0\n",
    "    gantt = []\n",
    "    stats = {p['PID']: {'Waiting': 0, 'Last': p['arrival'], 'Remaining': p['burst'], 'Arrival': p['arrival']} for p in processes}\n",
    "    processes.sort(key=lambda x: x['arrival'])\n",
    "    i = 0\n",
    "\n",
    "    while i < len(processes) or queue:\n",
    "        while i < len(processes) and processes[i]['arrival'] <= time:\n",
    "            queue.append(processes[i].copy())\n",
    "            i += 1\n",
    "\n",
    "        if queue:\n",
    "            p = queue.pop(0)\n",
    "            start = time\n",
    "            execute = min(p['burst'], quantum)\n",
    "            end = start + execute\n",
    "            p['burst'] -= execute\n",
    "            stats[p['PID']]['Waiting'] += start - stats[p['PID']]['Last']\n",
    "            stats[p['PID']]['Last'] = end\n",
    "            gantt.append((p['PID'], start, end))\n",
    "            time = end\n",
    "            if p['burst'] > 0:\n",
    "                queue.append(p)\n",
    "        else:\n",
    "            time = processes[i]['arrival']\n",
    "\n",
    "    results = []\n",
    "    for pid, s in stats.items():\n",
    "        results.append({'PID': pid, 'Waiting': s['Waiting'], 'Turnaround': s['Waiting'] + s['Remaining']})\n",
    "\n",
    "    return gantt, results"
   ]
  },
  {
   "cell_type": "code",
   "execution_count": 5,
   "id": "7ca8d8bd-0c36-4cca-9f49-5222abd47243",
   "metadata": {},
   "outputs": [],
   "source": [
    "# Priority Scheduling Algorithm\n",
    "def priority_scheduling(processes):\n",
    "    processes.sort(key=lambda x: (x['arrival'], x['priority']))\n",
    "    time = 0\n",
    "    gantt = []\n",
    "    stats = []\n",
    "\n",
    "    while processes:\n",
    "        ready = [p for p in processes if p['arrival'] <= time]\n",
    "        if ready:\n",
    "            ready.sort(key=lambda x: (x['priority'], x['arrival']))\n",
    "            p = ready.pop(0)\n",
    "            start = time\n",
    "            end = start + p['burst']\n",
    "            waiting = start - p['arrival']\n",
    "            tat = end - p['arrival']\n",
    "            gantt.append((p['PID'], start, end))\n",
    "            stats.append({'PID': p['PID'], 'Waiting': waiting, 'Turnaround': tat})\n",
    "            time = end\n",
    "            processes.remove(p)\n",
    "        else:\n",
    "            time = min(processes, key=lambda x: x['arrival'])['arrival']\n",
    "\n",
    "    return gantt, stats"
   ]
  },
  {
   "cell_type": "code",
   "execution_count": 6,
   "id": "8b21e878-5c7b-443c-8d60-eeb401c2e758",
   "metadata": {},
   "outputs": [],
   "source": [
    "# Function to draw the Gantt chart\n",
    "def draw_gantt(gantt):\n",
    "    fig, ax = plt.subplots()\n",
    "    for i, (pid, start, end) in enumerate(gantt):\n",
    "        ax.broken_barh([(start, end - start)], (i * 10, 9), facecolors='tab:blue')\n",
    "        ax.text((start + end) / 2, i * 10 + 4.5, pid, ha='center', va='center', color='white')\n",
    "    ax.set_xlabel('Time')\n",
    "    ax.set_yticks([])\n",
    "    ax.set_title('Gantt Chart')\n",
    "    plt.tight_layout()\n",
    "    plt.show()"
   ]
  },
  {
   "cell_type": "code",
   "execution_count": 7,
   "id": "3054742a-4146-4124-8d73-792f609d12ab",
   "metadata": {},
   "outputs": [],
   "source": [
    "# Function to print metrics\n",
    "def print_metrics(stats):\n",
    "    total_waiting_time = sum([s['Waiting'] for s in stats])\n",
    "    total_turnaround_time = sum([s['Turnaround'] for s in stats])\n",
    "    num_processes = len(stats)\n",
    "    print(\"\\nMetrics:\")\n",
    "    print(f\"Average Waiting Time: {total_waiting_time / num_processes:.2f}\")\n",
    "    print(f\"Average Turnaround Time: {total_turnaround_time / num_processes:.2f}\")\n",
    "    "
   ]
  },
  {
   "cell_type": "code",
   "execution_count": 8,
   "id": "8d861d6f-af36-4945-baa6-7a539aa673a9",
   "metadata": {},
   "outputs": [
    {
     "name": "stdin",
     "output_type": "stream",
     "text": [
      "Enter the number of processes:  3\n",
      "Enter PID for process 1:  1\n",
      "Enter arrival time for process 1:  0\n",
      "Enter burst time for process 1:  2\n",
      "Enter priority for process 1 (lower number means higher priority):  3\n",
      "Enter PID for process 2:  2\n",
      "Enter arrival time for process 2:  2\n",
      "Enter burst time for process 2:  3\n",
      "Enter priority for process 2 (lower number means higher priority):  5\n",
      "Enter PID for process 3:  3\n",
      "Enter arrival time for process 3:  3\n",
      "Enter burst time for process 3:  3\n",
      "Enter priority for process 3 (lower number means higher priority):  3\n",
      "Choose Scheduling Algorithm (FCFS, SJF, RR, Priority):  FCFS\n"
     ]
    },
    {
     "data": {
      "image/png": "[encoded data removed]",
      "text/plain": [
       "<Figure size 640x480 with 1 Axes>"
      ]
     },
     "metadata": {},
     "output_type": "display_data"
    },
    {
     "name": "stdout",
     "output_type": "stream",
     "text": [
      "\n",
      "Metrics:\n",
      "Average Waiting Time: 0.67\n",
      "Average Turnaround Time: 3.33\n"
     ]
    }
   ],
   "source": [
    "# Main program\n",
    "if __name__ == \"__main__\":\n",
    "    processes = get_process_input()\n",
    "    \n",
    "    # Ask the user to choose an algorithm\n",
    "    algorithm = input(\"Choose Scheduling Algorithm (FCFS, SJF, RR, Priority): \").strip().lower()\n",
    "    if algorithm == 'rr':\n",
    "        quantum = int(input(\"Enter the quantum time for Round Robin: \"))\n",
    "        gantt, stats = round_robin(processes, quantum)\n",
    "    elif algorithm == 'fcfs':\n",
    "        gantt, stats = fcfs(processes)\n",
    "    elif algorithm == 'sjf':\n",
    "        gantt, stats = sjf(processes)\n",
    "    elif algorithm == 'priority':\n",
    "        gantt, stats = priority_scheduling(processes)\n",
    "    else:\n",
    "        print(\"Invalid algorithm choice!\")\n",
    "        exit()\n",
    "\n",
    "    # Display results\n",
    "    draw_gantt(gantt)\n",
    "    print_metrics(stats)"
   ]
  },
  {
   "cell_type": "code",
   "execution_count": null,
   "id": "227b1966-be22-44c3-ab27-9a2ac06708dc",
   "metadata": {},
   "outputs": [],
   "source": []
  },
  {
   "cell_type": "code",
   "execution_count": null,
   "id": "431726ee-228b-442d-99a4-4bb22642c0c2",
   "metadata": {},
   "outputs": [],
   "source": []
  },
  {
   "cell_type": "code",
   "execution_count": null,
   "id": "13d9ae58-47ce-4886-99ff-cc31c5a44690",
   "metadata": {},
   "outputs": [],
   "source": []
  },
  {
   "cell_type": "code",
   "execution_count": null,
   "id": "225aac13-f214-4615-a540-ee50972b380b",
   "metadata": {},
   "outputs": [],
   "source": []
  },
  {
   "cell_type": "code",
   "execution_count": null,
   "id": "c576bc07-9d6a-467e-930f-429e7a1d9d15",
   "metadata": {},
   "outputs": [],
   "source": []
  },
  {
   "cell_type": "code",
   "execution_count": null,
   "id": "891a4abd-af7f-417e-b81b-4ca00131c6b2",
   "metadata": {},
   "outputs": [],
   "source": []
  }
 ],
 "metadata": {
  "kernelspec": {
   "display_name": "Python 3 (ipykernel)",
   "language": "python",
   "name": "python3"
  },
  "language_info": {
   "codemirror_mode": {
    "name": "ipython",
    "version": 3
   },
   "file_extension": ".py",
   "mimetype": "text/x-python",
   "name": "python",
   "nbconvert_exporter": "python",
   "pygments_lexer": "ipython3",
   "version": "3.12.7"
  }
 },
 "nbformat": 4,
 "nbformat_minor": 5
}
